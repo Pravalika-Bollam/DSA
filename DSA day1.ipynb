{
 "cells": [
  {
   "cell_type": "code",
   "execution_count": 13,
   "id": "d1519ee2-1481-4a04-b963-ad8f081f1b8e",
   "metadata": {},
   "outputs": [],
   "source": [
    "def leftIndex ( N, arr, X):\n",
    "    l = 0\n",
    "    r = N-1\n",
    "    ind = None \n",
    "    while (l<=r):\n",
    "        m = l + (r-l)//2\n",
    "        if arr[m]== X:\n",
    "            ind = m\n",
    "            break\n",
    "        elif arr[m] <X:\n",
    "            l = m+1\n",
    "        elif arr[m]>X:\n",
    "            r = m -1 \n",
    "    while (arr[ind-1]==X ):\n",
    "        ind = ind- 1\n",
    "    return ind"
   ]
  },
  {
   "cell_type": "code",
   "execution_count": 18,
   "id": "c954f198-3501-4a49-81fd-a7b1da550d2a",
   "metadata": {},
   "outputs": [],
   "source": [
    "arr = [1, 1, 2, 2, 3, 4, 5, 5, 6, 7, 7, 7]"
   ]
  },
  {
   "cell_type": "code",
   "execution_count": 19,
   "id": "1758fb1f-35d6-4bbd-8eaa-c09ae2034510",
   "metadata": {},
   "outputs": [
    {
     "data": {
      "text/plain": [
       "9"
      ]
     },
     "execution_count": 19,
     "metadata": {},
     "output_type": "execute_result"
    }
   ],
   "source": [
    "leftIndex(len(arr), arr, 7)"
   ]
  },
  {
   "cell_type": "code",
   "execution_count": null,
   "id": "d9b2f05b-5878-4caa-9bf4-7fd058e6d2c1",
   "metadata": {},
   "outputs": [],
   "source": []
  },
  {
   "cell_type": "code",
   "execution_count": 22,
   "id": "c32009a5-1a22-4272-a9de-5d931ebb34b0",
   "metadata": {},
   "outputs": [],
   "source": [
    "def peakElement(arr, n):\n",
    "    if len(arr)==1:\n",
    "        return 0\n",
    "    elif len(arr)==2:\n",
    "        if arr[0]>arr[1]:\n",
    "            return 0\n",
    "        elif arr[0]<=arr[1]:\n",
    "            return 1\n",
    "    ind = None\n",
    "    for i in range(1,len(arr)):\n",
    "        if i is not len(arr)-1:\n",
    "            if arr[i]>=arr[i-1]:\n",
    "                if arr[i]>arr[i+1]:\n",
    "                    ind = i\n",
    "                    return ind\n",
    "                elif arr[i]==arr[i+1]:\n",
    "                    ind = i+1\n",
    "        else:\n",
    "            if arr[i]>=arr[i-1]:\n",
    "                ind = i\n",
    "                return ind"
   ]
  },
  {
   "cell_type": "code",
   "execution_count": 23,
   "id": "b179ea03-e452-45df-9546-7db52446dc6b",
   "metadata": {},
   "outputs": [
    {
     "data": {
      "text/plain": [
       "4"
      ]
     },
     "execution_count": 23,
     "metadata": {},
     "output_type": "execute_result"
    }
   ],
   "source": [
    "peakElement([1, 3, 3, 4, 4], 5)"
   ]
  },
  {
   "cell_type": "code",
   "execution_count": null,
   "id": "315fd046-bd1d-4f01-97dd-ad465361362c",
   "metadata": {},
   "outputs": [],
   "source": []
  },
  {
   "cell_type": "code",
   "execution_count": 15,
   "id": "9f5e91fc-ebd1-475d-b4d3-76b13f96fea7",
   "metadata": {},
   "outputs": [],
   "source": [
    "class Solution:\n",
    "    def insert(self, alist, index, n):\n",
    "        alist.insert(index, n)\n",
    "        \n",
    "    #Function to sort the list using insertion sort algorithm.    \n",
    "    def insertionSort(self, alist, n):\n",
    "        new_arr = []\n",
    "        new_arr.append(alist[0])\n",
    "        alist_2 = alist[1:]\n",
    "        for x in alist_2:\n",
    "            ind = 0\n",
    "            for j in range(len(new_arr)):\n",
    "                if x>new_arr[j]:\n",
    "                    ind = ind +1\n",
    "            self.insert(new_arr, ind, x)\n",
    "        alist[:] = new_arr"
   ]
  },
  {
   "cell_type": "code",
   "execution_count": 16,
   "id": "f58a43c7-a67c-428e-91fb-153be89baa57",
   "metadata": {},
   "outputs": [
    {
     "name": "stdin",
     "output_type": "stream",
     "text": [
      " 1\n",
      " 5\n",
      " 4 1 3 9 7\n"
     ]
    },
    {
     "name": "stdout",
     "output_type": "stream",
     "text": [
      "1 3 4 7 9 \n"
     ]
    }
   ],
   "source": [
    "t = int(input())\n",
    "for i in range(t):\n",
    "    n = int(input())\n",
    "    arr = list(map(int, input().split()))\n",
    "    Solution().insertionSort(arr, n)\n",
    "    for i in range(n):\n",
    "        print(arr[i], end= \" \")\n",
    "    print()"
   ]
  },
  {
   "cell_type": "code",
   "execution_count": null,
   "id": "d2314f6d-c0f1-40ba-add6-e1ec641edbe1",
   "metadata": {},
   "outputs": [],
   "source": []
  },
  {
   "cell_type": "code",
   "execution_count": null,
   "id": "53aa092e-f757-4bc2-a445-a84032cb5f99",
   "metadata": {},
   "outputs": [],
   "source": []
  },
  {
   "cell_type": "code",
   "execution_count": 6,
   "id": "0c82f292-ab34-4494-90bc-fc227f528a38",
   "metadata": {},
   "outputs": [],
   "source": [
    "def bubble_sort(arr, n):\n",
    "    for i in range(len(arr)-1):\n",
    "        if arr[i]>arr[i+1]:\n",
    "            arr[i], arr[i+1] = arr[i+1], arr[i]\n",
    "    return arr\n"
   ]
  },
  {
   "cell_type": "code",
   "execution_count": 7,
   "id": "91f912aa-e1a4-48c4-a2c9-f8ffa6de7409",
   "metadata": {},
   "outputs": [
    {
     "data": {
      "text/plain": [
       "[1, 2, 2, 3, 3, 4]"
      ]
     },
     "execution_count": 7,
     "metadata": {},
     "output_type": "execute_result"
    }
   ],
   "source": [
    "bubble_sort([1, 3, 2, 2, 4, 3], 6)"
   ]
  },
  {
   "cell_type": "code",
   "execution_count": 8,
   "id": "11573631-c1ac-4b84-a24f-41de7ca2a67a",
   "metadata": {},
   "outputs": [
    {
     "data": {
      "text/plain": [
       "[18, 24, 38, 14, 40, 1, 43, 54]"
      ]
     },
     "execution_count": 8,
     "metadata": {},
     "output_type": "execute_result"
    }
   ],
   "source": [
    "bubble_sort([24, 18, 38, 43, 14, 40, 1, 54], 8)"
   ]
  },
  {
   "cell_type": "code",
   "execution_count": null,
   "id": "93d88ba3-637a-4ed4-82d0-10016d8381a1",
   "metadata": {},
   "outputs": [],
   "source": []
  },
  {
   "cell_type": "code",
   "execution_count": 10,
   "id": "fe7f39e1-472c-420e-acd2-77c9b9b6bd5f",
   "metadata": {},
   "outputs": [],
   "source": [
    "def selectionSort(arr, n):\n",
    "    for i in range(len(arr)):\n",
    "        ar2 = arr[i:]\n",
    "        x = min(ar2)\n",
    "        x_ind = arr.index(x, i)\n",
    "        arr[i], arr[x_ind] = arr[x_ind], arr[i]\n",
    "    return arr\n",
    "        "
   ]
  },
  {
   "cell_type": "code",
   "execution_count": 11,
   "id": "5ec60ba1-10f3-4156-8517-3b39af7b86bf",
   "metadata": {},
   "outputs": [
    {
     "data": {
      "text/plain": [
       "[1, 3, 3, 4, 7, 9]"
      ]
     },
     "execution_count": 11,
     "metadata": {},
     "output_type": "execute_result"
    }
   ],
   "source": [
    "selectionSort([4,1,3,3, 9,7], 6)"
   ]
  },
  {
   "cell_type": "code",
   "execution_count": 36,
   "id": "3e661677-346c-4dc5-a889-a7a627f7b7f8",
   "metadata": {},
   "outputs": [],
   "source": [
    "def merge_sorted_arrays(arr1, arr2):\n",
    "    n1 = len(arr1)\n",
    "    n2 = len(arr2)\n",
    "    m =  n1+n2\n",
    "    i = 0\n",
    "    j = 0\n",
    "    new_arr= []\n",
    "    while i < n1 and  j< n2:\n",
    "        if arr1[i] <= arr2[j]:\n",
    "            new_arr.append(arr1[i])\n",
    "            i += 1\n",
    "        else:\n",
    "            new_arr.append(arr2[j])\n",
    "            j +=1\n",
    "    if i == n1:\n",
    "        for x in range(j, len(arr2)):\n",
    "            new_arr.append(arr2[x])\n",
    "    elif j == n2:\n",
    "        for x in range(i, len(arr1)):\n",
    "            new_arr.append(arr1[x])\n",
    "    return new_arr\n",
    "    \n",
    "        "
   ]
  },
  {
   "cell_type": "code",
   "execution_count": 37,
   "id": "6b4eaabe-cd37-4f4f-afef-44b1a567af8f",
   "metadata": {},
   "outputs": [
    {
     "data": {
      "text/plain": [
       "[1, 1, 2, 3, 4, 5, 6, 7, 8, 9, 10, 12]"
      ]
     },
     "execution_count": 37,
     "metadata": {},
     "output_type": "execute_result"
    }
   ],
   "source": [
    "merge_sorted_arrays([1, 3, 5,7, 9], [1, 2, 4, 6, 8, 10, 12])"
   ]
  },
  {
   "cell_type": "code",
   "execution_count": null,
   "id": "1521ee0a-dd38-4e4e-abbc-b6b517dfc5c6",
   "metadata": {},
   "outputs": [],
   "source": []
  },
  {
   "cell_type": "code",
   "execution_count": 38,
   "id": "2b1bcc75-765d-4f86-9d88-d8852151760d",
   "metadata": {},
   "outputs": [],
   "source": [
    "def merge_subarrays(arr, start, mid, end):\n",
    "    arr1 = arr[start:mid+1]\n",
    "    arr2 = arr[mid+1:end+1]\n",
    "    n1 = len(arr1)\n",
    "    n2 = len(arr2)\n",
    "    i = 0\n",
    "    j = 0\n",
    "    new_arr= []\n",
    "    while i < n1 and  j< n2:\n",
    "        if arr1[i] <= arr2[j]:\n",
    "            new_arr.append(arr1[i])\n",
    "            i += 1\n",
    "        else:\n",
    "            new_arr.append(arr2[j])\n",
    "            j +=1\n",
    "    if i == n1:\n",
    "        for x in range(j, len(arr2)):\n",
    "            new_arr.append(arr2[x])\n",
    "    elif j == n2:\n",
    "        for x in range(i, len(arr1)):\n",
    "            new_arr.append(arr1[x])\n",
    "    return new_arr\n",
    "    \n",
    "    "
   ]
  },
  {
   "cell_type": "code",
   "execution_count": 39,
   "id": "aa326450-ee0f-45f0-91da-e7c7a4fa2969",
   "metadata": {},
   "outputs": [
    {
     "data": {
      "text/plain": [
       "[8, 10, 11, 15, 20, 40, 55]"
      ]
     },
     "execution_count": 39,
     "metadata": {},
     "output_type": "execute_result"
    }
   ],
   "source": [
    "merge_subarrays([10, 15, 20, 40, 8, 11, 55], 0, 3, 6)"
   ]
  },
  {
   "cell_type": "code",
   "execution_count": 40,
   "id": "17b05b4b-eab9-4663-a5f2-899c0e74c46a",
   "metadata": {},
   "outputs": [
    {
     "data": {
      "text/plain": [
       "[8, 10, 11, 15, 20, 40, 55]"
      ]
     },
     "execution_count": 40,
     "metadata": {},
     "output_type": "execute_result"
    }
   ],
   "source": [
    "merge_sorted_arrays([10, 15, 20, 40], [ 8, 11, 55] )"
   ]
  },
  {
   "cell_type": "code",
   "execution_count": null,
   "id": "910765b4-1b0f-4668-bda3-56674ac9b6ec",
   "metadata": {},
   "outputs": [],
   "source": []
  },
  {
   "cell_type": "code",
   "execution_count": null,
   "id": "f7bc9d6b-7532-442b-ae14-095ccc905e27",
   "metadata": {},
   "outputs": [],
   "source": []
  },
  {
   "cell_type": "code",
   "execution_count": 42,
   "id": "88543f17-a0f8-4c30-aa38-5fd882417b6e",
   "metadata": {},
   "outputs": [],
   "source": [
    "def merge_sort(arr):\n",
    "    if len(arr)<=1:\n",
    "        return arr    \n",
    "    l = 0\n",
    "    r = len(arr)\n",
    "    m =l + (r-l)//2\n",
    "    left = arr[:m]\n",
    "    right = arr[m:]\n",
    "    left = merge_sort(left)\n",
    "    right = merge_sort(right)\n",
    "    return merge_sort_arrays(left, right)\n",
    "    \n",
    "    "
   ]
  },
  {
   "cell_type": "code",
   "execution_count": 47,
   "id": "b975f023-0e03-4bbf-8622-248f93540eb7",
   "metadata": {},
   "outputs": [],
   "source": [
    "def merge_sort_arrays(left_arr, right_arr):\n",
    "    len1 = len(left_arr)\n",
    "    len2 = len(right_arr)\n",
    "    i = 0\n",
    "    j =0\n",
    "    merge_array = []\n",
    "    while i<len1 and j <len2:\n",
    "        if left_arr[i] <= right_arr[j]:\n",
    "            merge_array.append(left_arr[i])\n",
    "            i = i+1\n",
    "        else:\n",
    "            merge_array.append(right_arr[j])\n",
    "            j = j+1\n",
    "    if i==len1:\n",
    "        for x in range(j, len2):\n",
    "            merge_array.append(right_arr[x])\n",
    "    else:\n",
    "        for x in range(i, len1):\n",
    "            merge_array.append(left_arr[x])\n",
    "    return merge_array\n",
    "    "
   ]
  },
  {
   "cell_type": "code",
   "execution_count": 48,
   "id": "b5ea3647-8f71-467e-be3d-0783858bb64f",
   "metadata": {},
   "outputs": [
    {
     "data": {
      "text/plain": [
       "[9, 12, 17, 21, 25, 29, 38]"
      ]
     },
     "execution_count": 48,
     "metadata": {},
     "output_type": "execute_result"
    }
   ],
   "source": [
    "merge_sort([21, 38, 29, 17, 12, 25, 9])"
   ]
  },
  {
   "cell_type": "code",
   "execution_count": null,
   "id": "10e951a8-d820-471f-ba04-25688cd6c3c4",
   "metadata": {},
   "outputs": [],
   "source": []
  },
  {
   "cell_type": "code",
   "execution_count": null,
   "id": "33850508-11c6-4c91-88d6-2bdb91c7431a",
   "metadata": {},
   "outputs": [],
   "source": []
  },
  {
   "cell_type": "code",
   "execution_count": 55,
   "id": "2368d296-11a4-462a-9b43-ec783aece820",
   "metadata": {},
   "outputs": [],
   "source": [
    "def union_of_sort(arr1, arr2):\n",
    "    len1 = len(arr1)\n",
    "    len2 = len(arr2)\n",
    "    i = 0\n",
    "    j = 0\n",
    "    union = []\n",
    "    while i<len1 and j<len2:\n",
    "        if arr1[i] <= arr2[j]:\n",
    "            if arr1[i] == arr2[j]:\n",
    "                union.append(arr1[i])\n",
    "                i += 1\n",
    "                j +=1\n",
    "            else:\n",
    "                union.append(arr1[i])\n",
    "                i +=1\n",
    "        else:\n",
    "            union.append(arr2[j])\n",
    "            j +=1\n",
    "    if i == len1:\n",
    "        for x in range(j, len2):\n",
    "            union.append(arr2[x])\n",
    "    else:\n",
    "        for x in range(i, len1):\n",
    "            union.append(arr1[x])\n",
    "    return union\n",
    "        "
   ]
  },
  {
   "cell_type": "code",
   "execution_count": 56,
   "id": "25859cff-e129-42e9-be5c-732466a0845d",
   "metadata": {},
   "outputs": [
    {
     "data": {
      "text/plain": [
       "[1, 2, 3, 4, 6, 7]"
      ]
     },
     "execution_count": 56,
     "metadata": {},
     "output_type": "execute_result"
    }
   ],
   "source": [
    "union_of_sort([1, 2, 3, 4], [2, 3, 4, 6, 7])"
   ]
  },
  {
   "cell_type": "code",
   "execution_count": null,
   "id": "be3237fc-1995-4280-ba0b-25ddc2153957",
   "metadata": {},
   "outputs": [],
   "source": []
  }
 ],
 "metadata": {
  "kernelspec": {
   "display_name": "Python 3 (ipykernel)",
   "language": "python",
   "name": "python3"
  },
  "language_info": {
   "codemirror_mode": {
    "name": "ipython",
    "version": 3
   },
   "file_extension": ".py",
   "mimetype": "text/x-python",
   "name": "python",
   "nbconvert_exporter": "python",
   "pygments_lexer": "ipython3",
   "version": "3.9.12"
  }
 },
 "nbformat": 4,
 "nbformat_minor": 5
}
